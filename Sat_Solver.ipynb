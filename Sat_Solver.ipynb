{
 "cells": [
  {
   "cell_type": "markdown",
   "metadata": {},
   "source": [
    "#                                          SAT SOLVER"
   ]
  },
  {
   "cell_type": "markdown",
   "metadata": {},
   "source": [
    "DPLL(Davis–Putnam–Logemann–Loveland) Algorithm is used in this SAT solver.<br>\n",
    "->It is based on Backtracking for finding the satisfiability of any CNF.<br>\n",
    "->We have used following rules in implementing DPLL algortihm:<br>\n",
    "&nbsp; &nbsp; &nbsp; &nbsp;->Unit Propogation<br>\n",
    "&nbsp; &nbsp; &nbsp; &nbsp;->Boolean Constraint Propogation<br>\n",
    "&nbsp; &nbsp; &nbsp; &nbsp;->Jeroslow Wang Heuristic <br>\n"
   ]
  },
  {
   "cell_type": "code",
   "execution_count": 528,
   "metadata": {},
   "outputs": [],
   "source": [
    "# import necessary module\n",
    "import time"
   ]
  },
  {
   "cell_type": "markdown",
   "metadata": {},
   "source": [
    "Start time of the sat solver! time.clock() will return the processor time."
   ]
  },
  {
   "cell_type": "code",
   "execution_count": 529,
   "metadata": {},
   "outputs": [],
   "source": [
    "start_time=time.clock()"
   ]
  },
  {
   "cell_type": "markdown",
   "metadata": {},
   "source": [
    "### reading_ip()<br>\n",
    "->This function reading_ip() will take filename as input and will split the file line by line.<br>\n",
    "->Each clause will be stored in a list called as cnf_list.<br>\n",
    "->This function will return cnf_list, number of variables & number of clauses."
   ]
  },
  {
   "cell_type": "code",
   "execution_count": 530,
   "metadata": {},
   "outputs": [],
   "source": [
    "def reading_ip(filename):\n",
    "    fp = open(filename,\"r\")\n",
    "    line = fp.read()\n",
    "    lines = line.split(\"\\n\")\n",
    "    lines = lines[:-1]\n",
    "   # print(lines)\n",
    "    cnf_list = list()\n",
    "    i=0\n",
    "    for each_line in lines:\n",
    "        clause=list()\n",
    "        if each_line[0]=='c':\n",
    "            continue\n",
    "        if each_line[0]=='p':\n",
    "            n_vars = int(line.split()[2])\n",
    "            n_clause = int(line.split()[3])\n",
    "            continue\n",
    "        for c in each_line[:-2].split():\n",
    "            x=int(c)\n",
    "            clause.append(x)\n",
    "        cnf_list.append(clause)\n",
    "    return cnf_list, n_vars, n_clause"
   ]
  },
  {
   "cell_type": "markdown",
   "metadata": {},
   "source": [
    "#####  BackTracking Function\n",
    "This function will call itself recursively until we get a solution.<br>\n",
    "Jeroslow Wang Method will return the literal that we will choose to assign a truth value.<br>\n",
    "\n"
   ]
  },
  {
   "cell_type": "code",
   "execution_count": 531,
   "metadata": {},
   "outputs": [],
   "source": [
    "def backtracking(c_n_f, Assign_val):\n",
    "    c_n_f,unit_Assign_val=u_prop(c_n_f) #.............Calling unit propogation function\n",
    "    Assign_val=Assign_val+unit_Assign_val \n",
    "    if c_n_f==-1:\n",
    "        return []\n",
    "    if check(c_n_f)==1:\n",
    "        return Assign_val\n",
    "    var=heuristic_fun(c_n_f)    #.....................Variable which has to be considered to assign a truth value\n",
    "    result_ret=[]\n",
    "    result_ret=bin_const_prop(c_n_f,var)\n",
    "    Assign_val=Assign_val+[var]\n",
    "    sol=backtracking(result_ret,Assign_val)\n",
    "    if check(sol)==1:   #.............................Checking if solution list is empty\n",
    "        result_ret=[]\n",
    "        result_ret=bin_const_prop(c_n_f,-var)\n",
    "        Assign_val=Assign_val+[-var]\n",
    "        sol=backtracking(result_ret,Assign_val)\n",
    "    return sol"
   ]
  },
  {
   "cell_type": "code",
   "execution_count": 532,
   "metadata": {},
   "outputs": [],
   "source": [
    "def check(list1):\n",
    "    if len(list1)==0:\n",
    "        return 1\n",
    "    else:\n",
    "        return 0"
   ]
  },
  {
   "cell_type": "code",
   "execution_count": 533,
   "metadata": {},
   "outputs": [],
   "source": [
    "def el_check(a,list1):\n",
    "    if a in list1:\n",
    "        return 1\n",
    "    else:\n",
    "        return 0"
   ]
  },
  {
   "cell_type": "markdown",
   "metadata": {},
   "source": [
    "##### Boolean Constraint Propogation\n",
    "If one of a clause's literal is assigned false and remaining literal is unassigned then assign it true.<br><br>\n",
    "If all of a clause's literals are assigned false then return UNSATISFIABLE"
   ]
  },
  {
   "cell_type": "code",
   "execution_count": 534,
   "metadata": {},
   "outputs": [],
   "source": [
    "def bol_const_prop(c_n_f, u):\n",
    "    new_cnf=[]\n",
    "    #print(-unit)\n",
    "    for cl in c_n_f: #............................for every clause in the CNF\n",
    "        new_clause = list()\n",
    "        if el_check(u,cl)==1:   #...........................If there's a positive literal in clause then we will continue\n",
    "            continue\n",
    "        if el_check(-u,cl)==1:  # .............If there's a negation of that literal in clause then remove all such literals\n",
    "            for c in cl: #...........................for every literal in clause\n",
    "                if c!=-u: #..........................check if it is not negated one\n",
    "                    new_clause.append(c) #...........Add those literals to a new clause list\n",
    "            if check(new_clause)==1: #...............If new_clause is empty return -1 and this means CNF is UNSAT\n",
    "                return -1\n",
    "            new_cnf.append(new_clause) #.............Add the new clause to a new_cnf i.e., modify the cnf\n",
    "        else:\n",
    "            new_cnf.append(cl) #.....................Append the remaining clauses to the modified CNF\n",
    "    return new_cnf"
   ]
  },
  {
   "cell_type": "markdown",
   "metadata": {},
   "source": [
    "##### Unit Propogation\n",
    "Checking if there's a single literal clause (unit clause) in CNF.<br>\n",
    "Then we are calling bol_const_prop() function on those unit clauses<br>.\n",
    "\n",
    "Reference-https://ocw.mit.edu/courses/aeronautics-and-astronautics/16-412j-cognitive-robotics-spring-2016/readings/MIT16_412JS16_Readings2P3.pdf"
   ]
  },
  {
   "cell_type": "code",
   "execution_count": 535,
   "metadata": {},
   "outputs": [],
   "source": [
    "def u_prop(c_n_f):\n",
    "    unit_clause=list()\n",
    "    for l in c_n_f:\n",
    "        length=len(l)\n",
    "        if length==1: #...................................checking if it is a unit clause\n",
    "            #print(l,c_n_f.index(l))\n",
    "            unit_clause.append(l) #.........................adding it to the list unit_clause\n",
    "    #print(unit_clause)\n",
    "    Assign_val = []\n",
    "    while unit_clause: #.....................................while there are unit clauses \n",
    "        u=unit_clause[0]\n",
    "        #print(u)\n",
    "        Assign_val.append(u[0])\n",
    "       # print(u[0])\n",
    "        c_n_f=bol_const_prop(c_n_f, u[0]) #.............This will contain the new CNF returned by BCP function\n",
    "        if c_n_f==-1: #...............if returned value is -1 means a clause in this cnf is false then return -1\n",
    "            return -1,[]\n",
    "        if check(c_n_f)==1:\n",
    "            return c_n_f, Assign_val\n",
    "        unit_clause=list()\n",
    "        for l in c_n_f:\n",
    "            length=len(l)\n",
    "            if length==1:\n",
    "                unit_clause.append(l)\n",
    "    return c_n_f,Assign_val"
   ]
  },
  {
   "cell_type": "markdown",
   "metadata": {},
   "source": [
    "Jeroslow Wang Method is used as a decision heuristic here.<br>\n",
    "It chooses the literal that maximises following-<br><br>\n",
    "$ JW = \\sum \\limits_{l∈w,w∈φ}2^{-|w|} $<br><br>\n",
    "where l is a variable of clause w and |w| is the number of literals in clause w.<br>\n",
    "We have to compute JW for each variable of clause"
   ]
  },
  {
   "cell_type": "code",
   "execution_count": 536,
   "metadata": {},
   "outputs": [],
   "source": [
    "#We are defining the function heuristic_fun.This heiurisctic will find the varibale with the highest score\n",
    "def heuristic_fun(c_n_f):\n",
    "    count={}#.............................defining a dictionary which will store count value of each literal\n",
    "    for each_clause in c_n_f:\n",
    "        for l in each_clause:\n",
    "            if el_check(l,count)==1:\n",
    "                length=len(each_clause)\n",
    "                count[l]+=2 ** -length\n",
    "            else:\n",
    "                length=len(each_clause)\n",
    "                count[l]=2 ** -length\n",
    "    count_list_values=list(count.values())\n",
    "    count_list_keys=list(count.keys())\n",
    "    max_key=count_list_keys[count_list_values.index(max(count_list_values))]#finding the literal with maximum score\n",
    "    return max_key #..............................Return the literal which will have the max score\n",
    "    "
   ]
  },
  {
   "cell_type": "markdown",
   "metadata": {},
   "source": [
    "### main()\n",
    "->This is the main function.<br>-> We need to enter the input file name.<br> ->We are calling the reading_ip fucntion which will do the parsing i.e., read the input file and store the clauuses.<br>->Then we are calling the backtracking function which will return the solution.<br> -> We are writting the output i.e., assignment as well as whether it is satisfiable or not in an output file. "
   ]
  },
  {
   "cell_type": "code",
   "execution_count": 537,
   "metadata": {},
   "outputs": [],
   "source": [
    "def main():\n",
    "    filename='unsat2.cnf'   # Define file name \n",
    "    cnf,n_vars,n_clause=reading_ip(filename)  # Parse the file\n",
    "    #print(cnf)\n",
    "    sol=list()\n",
    "    sol=backtracking(cnf,[]) # ....................calling backtracking function and it will return the solution\n",
    "    \n",
    "    # write the result in output file and assign the value to variable if satisfiable\n",
    "    input_file = filename.split(\".\")[0]\n",
    "    output_file = input_file+\"_output.txt\"\n",
    "    fp = open(output_file,\"w\")\n",
    "    if check(sol)==0:               # if solution is present\n",
    "        for c in range(1,n_vars+1):\n",
    "            if el_check(c,sol)==0:\n",
    "                if el_check(-c,sol)==0:\n",
    "                    sol.append(c)\n",
    "        sol.sort(key=abs)\n",
    "        fp.write(\"SATISFIABLE\")\n",
    "        fp.write(\"\\n\")\n",
    "        fp.write(\"ASSignment: \\n\")\n",
    "        for x in sol:\n",
    "            x=str(x)\n",
    "            fp.write(x)\n",
    "            fp.write(\" \")\n",
    "            #If we want to know whether it is assigned true or false we can use following\n",
    "        \"\"\" if x[0]=='-':\n",
    "                fp.write(x[1:])\n",
    "                fp.write(\":False  \")\n",
    "            else:\n",
    "                fp.write(x[0:])\n",
    "                fp.write(\":True   \")\n",
    "                \"\"\"\n",
    "    else:\n",
    "        fp.write('UNSATISFIABLE')"
   ]
  },
  {
   "cell_type": "markdown",
   "metadata": {},
   "source": [
    "Calling Main Function!"
   ]
  },
  {
   "cell_type": "code",
   "execution_count": 538,
   "metadata": {},
   "outputs": [],
   "source": [
    "main()"
   ]
  },
  {
   "cell_type": "markdown",
   "metadata": {},
   "source": [
    "Printing the total execution time it takes to decide the satifiability of given cnf!"
   ]
  },
  {
   "cell_type": "code",
   "execution_count": 539,
   "metadata": {},
   "outputs": [
    {
     "name": "stdout",
     "output_type": "stream",
     "text": [
      "\n",
      "Execution Time-> 0.11297000000001844\n"
     ]
    }
   ],
   "source": [
    "Ex_time=time.clock()-start_time\n",
    "print(\"\\nExecution Time->\",Ex_time)"
   ]
  },
  {
   "cell_type": "code",
   "execution_count": null,
   "metadata": {},
   "outputs": [],
   "source": []
  }
 ],
 "metadata": {
  "kernelspec": {
   "display_name": "Python 3",
   "language": "python",
   "name": "python3"
  },
  "language_info": {
   "codemirror_mode": {
    "name": "ipython",
    "version": 3
   },
   "file_extension": ".py",
   "mimetype": "text/x-python",
   "name": "python",
   "nbconvert_exporter": "python",
   "pygments_lexer": "ipython3",
   "version": "3.6.9"
  }
 },
 "nbformat": 4,
 "nbformat_minor": 4
}
